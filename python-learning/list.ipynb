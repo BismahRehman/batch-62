{
 "cells": [
  {
   "cell_type": "code",
   "execution_count": 11,
   "metadata": {},
   "outputs": [
    {
     "name": "stdout",
     "output_type": "stream",
     "text": [
      "aPple\n",
      "manGoes\n",
      "oraNges\n",
      "banAna\n"
     ]
    }
   ],
   "source": [
    "fruits=['aPple','manGoes','oraNges','banAna']\n",
    "for f in fruits:\n",
    "   print(f)"
   ]
  },
  {
   "cell_type": "code",
   "execution_count": 14,
   "metadata": {},
   "outputs": [
    {
     "data": {
      "text/plain": [
       "'banAna'"
      ]
     },
     "execution_count": 14,
     "metadata": {},
     "output_type": "execute_result"
    }
   ],
   "source": [
    "f"
   ]
  },
  {
   "cell_type": "code",
   "execution_count": 15,
   "metadata": {},
   "outputs": [
    {
     "name": "stdout",
     "output_type": "stream",
     "text": [
      "APPLE\n",
      "MANGOES\n",
      "ORANGES\n",
      "BANANA\n"
     ]
    }
   ],
   "source": [
    "for f in fruits:\n",
    "   print(f.upper())"
   ]
  },
  {
   "cell_type": "code",
   "execution_count": 17,
   "metadata": {},
   "outputs": [
    {
     "name": "stdout",
     "output_type": "stream",
     "text": [
      "Apple\n",
      "Mangoes\n",
      "Oranges\n",
      "Banana\n"
     ]
    }
   ],
   "source": [
    "for f in fruits:\n",
    "   print(f.title())"
   ]
  },
  {
   "cell_type": "code",
   "execution_count": 45,
   "metadata": {},
   "outputs": [
    {
     "name": "stdout",
     "output_type": "stream",
     "text": [
      "aPple\n",
      "jahanzaib\n",
      "manGoes\n",
      "jahanzaib\n",
      "oraNges\n",
      "jahanzaib\n",
      "banAna\n",
      "jahanzaib\n",
      "kamran\n"
     ]
    }
   ],
   "source": [
    "for f in fruits:\n",
    "   print(f)\n",
    "   print(\"jahanzaib\")\n",
    "\n",
    "print('kamran')\n",
    " "
   ]
  },
  {
   "cell_type": "code",
   "execution_count": 46,
   "metadata": {},
   "outputs": [
    {
     "name": "stdout",
     "output_type": "stream",
     "text": [
      "APPLE\n",
      "MANGOES\n",
      "ORANGES\n",
      "BANANA\n"
     ]
    }
   ],
   "source": [
    "for f in fruits:\n",
    "   y=f.upper()\n",
    "   print()"
   ]
  },
  {
   "cell_type": "code",
   "execution_count": null,
   "metadata": {},
   "outputs": [],
   "source": [
    "#range(start (default=0),end,step(default=1))"
   ]
  },
  {
   "cell_type": "code",
   "execution_count": 60,
   "metadata": {},
   "outputs": [
    {
     "name": "stdout",
     "output_type": "stream",
     "text": [
      "2-kamran\n",
      "3-kamran\n",
      "4-kamran\n",
      "5-kamran\n",
      "6-kamran\n",
      "7-kamran\n"
     ]
    }
   ],
   "source": [
    "for i in range(2,8):\n",
    "   print(f\"{i}-kamran\")\n"
   ]
  },
  {
   "cell_type": "code",
   "execution_count": 62,
   "metadata": {},
   "outputs": [
    {
     "name": "stdout",
     "output_type": "stream",
     "text": [
      "[0, 2, 4, 6, 8, 10]\n"
     ]
    }
   ],
   "source": [
    "\n",
    "li=list(range (0,11, 2))\n",
    "print(li)"
   ]
  },
  {
   "cell_type": "code",
   "execution_count": null,
   "metadata": {},
   "outputs": [],
   "source": []
  },
  {
   "cell_type": "code",
   "execution_count": 75,
   "metadata": {},
   "outputs": [
    {
     "name": "stdout",
     "output_type": "stream",
     "text": [
      "1\n",
      "[1]\n",
      "4\n",
      "[1, 4]\n",
      "9\n",
      "[1, 4, 9]\n",
      "16\n",
      "[1, 4, 9, 16]\n",
      "25\n",
      "[1, 4, 9, 16, 25]\n",
      "\n",
      " [1, 4, 9, 16, 25]\n"
     ]
    }
   ],
   "source": [
    "number=[1,2,3,4,5]\n",
    "square=[]\n",
    "for x in number:\n",
    "  x=x**2\n",
    "  print(x)\n",
    "  square.append(x)\n",
    "  print(square)\n",
    "\n",
    "\n",
    "print(f\"\\n\",square)"
   ]
  },
  {
   "cell_type": "code",
   "execution_count": 79,
   "metadata": {},
   "outputs": [
    {
     "data": {
      "text/plain": [
       "[1, 4, 9, 16, 25]"
      ]
     },
     "execution_count": 79,
     "metadata": {},
     "output_type": "execute_result"
    }
   ],
   "source": [
    "[x**2 for x in number]\n"
   ]
  },
  {
   "cell_type": "code",
   "execution_count": null,
   "metadata": {},
   "outputs": [],
   "source": [
    "fruit=['apple|zxc  ']"
   ]
  },
  {
   "cell_type": "code",
   "execution_count": 105,
   "metadata": {},
   "outputs": [
    {
     "name": "stdout",
     "output_type": "stream",
     "text": [
      "['ali', 'ahmad', 'nadeem', 'shahmir', 'nameem']\n",
      "['umer', 'ali', 'ahmad', 'nadeem', 'shahmir', 'nameem']\n",
      "umer,you are invited in the dinner\n",
      "ali,you are invited in the dinner\n",
      "ahmad,you are invited in the dinner\n",
      "nadeem,you are invited in the dinner\n",
      "shahmir,you are invited in the dinner\n",
      "\n",
      "umer,you are invited in the dinner\n",
      "ali,you are invited in the dinner\n",
      "ahmad,you are invited in the dinner\n",
      "nadeem,you are invited in the dinner\n",
      "shahmir,you are invited in the dinner\n",
      "nameem,you are invited in the dinner\n",
      "['umer', 'ali', 'ahmad', 'nadeem', 'shahmir', 'nameem']\n"
     ]
    }
   ],
   "source": [
    "list=[\"ali\", \"ahmad\",\"nadeem\",\"shahmir\"]\n",
    "list.append(\"nameem\")\n",
    "print(list)\n",
    "\n",
    "list.insert(0,\"umer\")\n",
    "\n",
    "print(list) \n",
    "\n",
    "print(f\"{list[0]},you are invited in the dinner\")\n",
    "print(f\"{list[1]},you are invited in the dinner\")\n",
    "print(f\"{list[2]},you are invited in the dinner\")\n",
    "print(f\"{list[3]},you are invited in the dinner\")\n",
    "print(f\"{list[4]},you are invited in the dinner\\n\")\n",
    "\n",
    "\n",
    "\n",
    "for l in list:\n",
    "    print(f\"{l},you are invited in the dinner\")\n",
    "\n",
    "\n",
    "\n",
    "print(list)"
   ]
  },
  {
   "cell_type": "code",
   "execution_count": 110,
   "metadata": {},
   "outputs": [
    {
     "name": "stdout",
     "output_type": "stream",
     "text": [
      "umer,you are invited in the dinner\n",
      "ali,you are invited in the dinner\n",
      "ahmad,you are invited in the dinner\n"
     ]
    }
   ],
   "source": [
    "for l in list[0:3]:#list(range (0,11, 2))\n",
    "    print(f\"{l},you are invited in the dinner\")"
   ]
  },
  {
   "cell_type": "code",
   "execution_count": 111,
   "metadata": {},
   "outputs": [
    {
     "ename": "ValueError",
     "evalue": "0 is not in list",
     "output_type": "error",
     "traceback": [
      "\u001b[1;31m---------------------------------------------------------------------------\u001b[0m",
      "\u001b[1;31mValueError\u001b[0m                                Traceback (most recent call last)",
      "Cell \u001b[1;32mIn[111], line 2\u001b[0m\n\u001b[0;32m      1\u001b[0m my_list \u001b[38;5;241m=\u001b[39m [\u001b[38;5;241m1\u001b[39m, \u001b[38;5;241m2\u001b[39m, \u001b[38;5;241m3\u001b[39m, \u001b[38;5;241m2\u001b[39m]\n\u001b[1;32m----> 2\u001b[0m index \u001b[38;5;241m=\u001b[39m \u001b[43mmy_list\u001b[49m\u001b[38;5;241;43m.\u001b[39;49m\u001b[43mindex\u001b[49m\u001b[43m(\u001b[49m\u001b[38;5;241;43m0\u001b[39;49m\u001b[43m)\u001b[49m\n\u001b[0;32m      3\u001b[0m \u001b[38;5;28mprint\u001b[39m(my_list)\n",
      "\u001b[1;31mValueError\u001b[0m: 0 is not in list"
     ]
    }
   ],
   "source": [
    "my_list = [1, 2, 3, 2]\n",
    "index = my_list.index(0)\n",
    "print(my_list)"
   ]
  }
 ],
 "metadata": {
  "kernelspec": {
   "display_name": "Python 3",
   "language": "python",
   "name": "python3"
  },
  "language_info": {
   "codemirror_mode": {
    "name": "ipython",
    "version": 3
   },
   "file_extension": ".py",
   "mimetype": "text/x-python",
   "name": "python",
   "nbconvert_exporter": "python",
   "pygments_lexer": "ipython3",
   "version": "3.12.4"
  }
 },
 "nbformat": 4,
 "nbformat_minor": 2
}
